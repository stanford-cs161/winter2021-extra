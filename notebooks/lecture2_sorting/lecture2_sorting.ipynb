{
 "cells": [
  {
   "cell_type": "markdown",
   "metadata": {},
   "source": [
    "# Lecture 2: Sorting"
   ]
  },
  {
   "cell_type": "code",
   "execution_count": 1,
   "metadata": {
    "collapsed": true
   },
   "outputs": [],
   "source": [
    "%matplotlib inline\n",
    "import matplotlib\n",
    "import numpy as np\n",
    "import matplotlib.pyplot as plt\n",
    "from random import shuffle"
   ]
  },
  {
   "cell_type": "markdown",
   "metadata": {},
   "source": [
    "## Insertion Sort"
   ]
  },
  {
   "cell_type": "markdown",
   "metadata": {},
   "source": [
    "This implements the most naive version of insertion sort, following the logic: \"insert the thing where it needs to go.\"  \n",
    "\n",
    "It makes a blank list, and inserts elements one-at-a-time.\n",
    "\n",
    "This is not a very good way to implement insertion sort."
   ]
  },
  {
   "cell_type": "code",
   "execution_count": 2,
   "metadata": {
    "collapsed": true
   },
   "outputs": [],
   "source": [
    "def naiveInsertionSort(A):\n",
    "    B = [None for i in range(len(A))] # B is a blank list of the same length as A\n",
    "    for x in A:\n",
    "        for i in range(len(B)):\n",
    "            if B[i] == None or B[i] > x:\n",
    "                # then x goes in spot i, and we should move everything over.\n",
    "                j = len(B)-1\n",
    "                while j > i:\n",
    "                    B[j] = B[j-1]\n",
    "                    j -= 1\n",
    "                B[i] = x\n",
    "                break # okay we are done placing x\n",
    "    return B"
   ]
  },
  {
   "cell_type": "markdown",
   "metadata": {},
   "source": [
    "Let's sanity-check:"
   ]
  },
  {
   "cell_type": "code",
   "execution_count": 3,
   "metadata": {
    "collapsed": false
   },
   "outputs": [
    {
     "name": "stdout",
     "output_type": "stream",
     "text": [
      "[3, 4, 5, 6, 8]\n"
     ]
    }
   ],
   "source": [
    "A = [6,4,3,8,5]\n",
    "B = naiveInsertionSort(A)\n",
    "print(B)"
   ]
  },
  {
   "cell_type": "markdown",
   "metadata": {},
   "source": [
    "The code above faithfully captures the notion of \"insertion sort\" that we first described on the slides: insert the elements into a new list, one-at-a-time, where they should go.  But we can be a bit more slick about it, and do it in-place.  The following  implements the description of insertion sort in-place, which we gave a demonstration of in the slides."
   ]
  },
  {
   "cell_type": "code",
   "execution_count": 4,
   "metadata": {
    "collapsed": true
   },
   "outputs": [],
   "source": [
    "def InsertionSort(A):\n",
    "    for i in range(1,len(A)):\n",
    "        current = A[i]\n",
    "        j = i-1\n",
    "        while j >= 0 and A[j] > current:\n",
    "            A[j+1] = A[j]\n",
    "            j -= 1\n",
    "        A[j+1] = current"
   ]
  },
  {
   "cell_type": "markdown",
   "metadata": {},
   "source": [
    "Let's sanity-check:"
   ]
  },
  {
   "cell_type": "code",
   "execution_count": 5,
   "metadata": {
    "collapsed": false
   },
   "outputs": [
    {
     "name": "stdout",
     "output_type": "stream",
     "text": [
      "[3, 4, 5, 6, 8]\n"
     ]
    }
   ],
   "source": [
    "A = [6,4,3,8,5]\n",
    "InsertionSort(A)\n",
    "print(A)"
   ]
  },
  {
   "cell_type": "markdown",
   "metadata": {},
   "source": [
    "Let's do it a bunch more times to make sure!  (Note: this is *not* a formal proof of correctness!)"
   ]
  },
  {
   "cell_type": "code",
   "execution_count": 6,
   "metadata": {
    "collapsed": false
   },
   "outputs": [
    {
     "name": "stdout",
     "output_type": "stream",
     "text": [
      "YES IT IS SORTED!\n",
      "YES IT IS SORTED!\n",
      "YES IT IS SORTED!\n",
      "YES IT IS SORTED!\n",
      "YES IT IS SORTED!\n",
      "YES IT IS SORTED!\n",
      "YES IT IS SORTED!\n",
      "YES IT IS SORTED!\n",
      "YES IT IS SORTED!\n",
      "YES IT IS SORTED!\n",
      "YES IT IS SORTED!\n",
      "YES IT IS SORTED!\n",
      "YES IT IS SORTED!\n",
      "YES IT IS SORTED!\n",
      "YES IT IS SORTED!\n",
      "YES IT IS SORTED!\n",
      "YES IT IS SORTED!\n",
      "YES IT IS SORTED!\n",
      "YES IT IS SORTED!\n",
      "YES IT IS SORTED!\n",
      "YES IT IS SORTED!\n",
      "YES IT IS SORTED!\n",
      "YES IT IS SORTED!\n",
      "YES IT IS SORTED!\n",
      "YES IT IS SORTED!\n",
      "YES IT IS SORTED!\n",
      "YES IT IS SORTED!\n",
      "YES IT IS SORTED!\n",
      "YES IT IS SORTED!\n",
      "YES IT IS SORTED!\n",
      "YES IT IS SORTED!\n",
      "YES IT IS SORTED!\n",
      "YES IT IS SORTED!\n",
      "YES IT IS SORTED!\n",
      "YES IT IS SORTED!\n",
      "YES IT IS SORTED!\n",
      "YES IT IS SORTED!\n",
      "YES IT IS SORTED!\n",
      "YES IT IS SORTED!\n",
      "YES IT IS SORTED!\n",
      "YES IT IS SORTED!\n",
      "YES IT IS SORTED!\n",
      "YES IT IS SORTED!\n",
      "YES IT IS SORTED!\n",
      "YES IT IS SORTED!\n",
      "YES IT IS SORTED!\n",
      "YES IT IS SORTED!\n",
      "YES IT IS SORTED!\n",
      "YES IT IS SORTED!\n",
      "YES IT IS SORTED!\n",
      "YES IT IS SORTED!\n",
      "YES IT IS SORTED!\n",
      "YES IT IS SORTED!\n",
      "YES IT IS SORTED!\n",
      "YES IT IS SORTED!\n",
      "YES IT IS SORTED!\n",
      "YES IT IS SORTED!\n",
      "YES IT IS SORTED!\n",
      "YES IT IS SORTED!\n",
      "YES IT IS SORTED!\n",
      "YES IT IS SORTED!\n",
      "YES IT IS SORTED!\n",
      "YES IT IS SORTED!\n",
      "YES IT IS SORTED!\n",
      "YES IT IS SORTED!\n",
      "YES IT IS SORTED!\n",
      "YES IT IS SORTED!\n",
      "YES IT IS SORTED!\n",
      "YES IT IS SORTED!\n",
      "YES IT IS SORTED!\n",
      "YES IT IS SORTED!\n",
      "YES IT IS SORTED!\n",
      "YES IT IS SORTED!\n",
      "YES IT IS SORTED!\n",
      "YES IT IS SORTED!\n",
      "YES IT IS SORTED!\n",
      "YES IT IS SORTED!\n",
      "YES IT IS SORTED!\n",
      "YES IT IS SORTED!\n",
      "YES IT IS SORTED!\n",
      "YES IT IS SORTED!\n",
      "YES IT IS SORTED!\n",
      "YES IT IS SORTED!\n",
      "YES IT IS SORTED!\n",
      "YES IT IS SORTED!\n",
      "YES IT IS SORTED!\n",
      "YES IT IS SORTED!\n",
      "YES IT IS SORTED!\n",
      "YES IT IS SORTED!\n",
      "YES IT IS SORTED!\n",
      "YES IT IS SORTED!\n",
      "YES IT IS SORTED!\n",
      "YES IT IS SORTED!\n",
      "YES IT IS SORTED!\n",
      "YES IT IS SORTED!\n",
      "YES IT IS SORTED!\n",
      "YES IT IS SORTED!\n",
      "YES IT IS SORTED!\n",
      "YES IT IS SORTED!\n",
      "YES IT IS SORTED!\n"
     ]
    }
   ],
   "source": [
    "def is_sorted(A):\n",
    "    for i in range(len(A) - 1):\n",
    "        if A[i] > A[i+1]:\n",
    "            return False\n",
    "    return True\n",
    "\n",
    "A = [1,2,3,4,5,6,7,8,9,10]\n",
    "for trial in range(100):\n",
    "    shuffle(A)\n",
    "    InsertionSort(A)\n",
    "    if is_sorted(A):\n",
    "        print('YES IT IS SORTED!')"
   ]
  },
  {
   "cell_type": "markdown",
   "metadata": {},
   "source": [
    "Okay, now we have two working algorithms.  Which one is faster?"
   ]
  },
  {
   "cell_type": "code",
   "execution_count": 7,
   "metadata": {
    "collapsed": true
   },
   "outputs": [],
   "source": [
    "from tryItABunch import tryItABunch\n",
    "nValuesNaive, tValuesNaive = tryItABunch( naiveInsertionSort, startN = 50, endN = 1050, stepSize=50, numTrials=10, listMax = 10 )\n",
    "nValues, tValues = tryItABunch( InsertionSort, startN = 50, endN = 1050, stepSize=50, numTrials=5, listMax = 10) "
   ]
  },
  {
   "cell_type": "code",
   "execution_count": 8,
   "metadata": {
    "collapsed": false
   },
   "outputs": [
    {
     "data": {
      "text/plain": [
       "<matplotlib.text.Text at 0x10b442828>"
      ]
     },
     "execution_count": 8,
     "metadata": {},
     "output_type": "execute_result"
    },
    {
     "data": {
      "image/png": "[encoded data removed]",
      "text/plain": [
       "<matplotlib.figure.Figure at 0x10b4260f0>"
      ]
     },
     "metadata": {},
     "output_type": "display_data"
    }
   ],
   "source": [
    "plt.plot(nValuesNaive, tValuesNaive, color=\"red\", label=\"Naive version\")\n",
    "plt.plot(nValues, tValues, color=\"blue\", label=\"Less naive version\")\n",
    "plt.xlabel(\"n\")\n",
    "plt.ylabel(\"Time(ms)\")\n",
    "plt.legend()\n",
    "plt.title(\"Naive vs. non-naive insertion sort\")\n"
   ]
  },
  {
   "cell_type": "markdown",
   "metadata": {},
   "source": [
    "Well, that does agree with our intuition that the naive version should take longer.  But it looks like the performance is getting worse and worse!  Instead of growing roughly linearly with the size of the input, it's growing quadratically!"
   ]
  },
  {
   "cell_type": "markdown",
   "metadata": {},
   "source": [
    "## MergeSort\n",
    "\n",
    "Okay, so InsertionSort was slow.  Can we do better?"
   ]
  },
  {
   "cell_type": "code",
   "execution_count": 9,
   "metadata": {
    "collapsed": true
   },
   "outputs": [],
   "source": [
    "# merge two sorted arrays to return a sorted array\n",
    "def merge(L, R):\n",
    "    i = 0 # current index in the L array\n",
    "    j = 0 # current index in the R array\n",
    "    ret = []\n",
    "    while i < len(L) and j < len(R):\n",
    "        if L[i] < R[j]:\n",
    "            ret.append(L[i])\n",
    "            i += 1\n",
    "        else:   # ties go to R.  Doesn't really matter.\n",
    "            ret.append(R[j])\n",
    "            j += 1\n",
    "    while i < len(L):\n",
    "        ret.append(L[i])\n",
    "        i += 1\n",
    "    while j < len(R):\n",
    "        ret.append(R[j])\n",
    "        j+= 1\n",
    "    return ret\n",
    "        \n",
    "def mergeSort(A):\n",
    "    n = len(A)\n",
    "    if n <= 1:\n",
    "        return A\n",
    "    L = mergeSort(A[:round(n/2)])\n",
    "    R = mergeSort(A[round(n/2):n])\n",
    "    return merge(L,R)"
   ]
  },
  {
   "cell_type": "markdown",
   "metadata": {},
   "source": [
    "Let's sanity-check:"
   ]
  },
  {
   "cell_type": "code",
   "execution_count": 10,
   "metadata": {
    "collapsed": false
   },
   "outputs": [
    {
     "name": "stdout",
     "output_type": "stream",
     "text": [
      "[2, 3, 3, 4, 4, 17, 27, 52]\n"
     ]
    }
   ],
   "source": [
    "A = [27,17,2,4,52,3,4,3]\n",
    "B = mergeSort(A)\n",
    "print(B)"
   ]
  },
  {
   "cell_type": "code",
   "execution_count": 11,
   "metadata": {
    "collapsed": true
   },
   "outputs": [],
   "source": [
    "nValuesMerge, tValuesMerge = tryItABunch( mergeSort, startN = 50, endN = 1050, stepSize=50, numTrials=10, listMax = 10)"
   ]
  },
  {
   "cell_type": "markdown",
   "metadata": {},
   "source": [
    "First we can take a look at how that fits in with what we saw before"
   ]
  },
  {
   "cell_type": "code",
   "execution_count": 12,
   "metadata": {
    "collapsed": false
   },
   "outputs": [
    {
     "data": {
      "text/plain": [
       "<matplotlib.text.Text at 0x10b7d9908>"
      ]
     },
     "execution_count": 12,
     "metadata": {},
     "output_type": "execute_result"
    },
    {
     "data": {
      "image/png": "[encoded data removed]",
      "text/plain": [
       "<matplotlib.figure.Figure at 0x10b736588>"
      ]
     },
     "metadata": {},
     "output_type": "display_data"
    }
   ],
   "source": [
    "plt.plot(nValuesNaive, tValuesNaive, color=\"red\", label=\"Naive version of insertion sort\")\n",
    "plt.plot(nValues, tValues, color=\"blue\", label=\"Less naive version of insertion sort\")\n",
    "plt.plot(nValuesMerge, tValuesMerge, color=\"orange\", label=\"Not very slick implementation of mergeSort\")\n",
    "plt.xlabel(\"n\")\n",
    "plt.ylabel(\"Time(ms)\")\n",
    "plt.legend()\n",
    "plt.title(\"All sorts of sorts\")"
   ]
  },
  {
   "cell_type": "raw",
   "metadata": {},
   "source": [
    "For reference, this is how the theoretical running time looks:"
   ]
  },
  {
   "cell_type": "code",
   "execution_count": 13,
   "metadata": {
    "collapsed": false
   },
   "outputs": [
    {
     "data": {
      "text/plain": [
       "<matplotlib.text.Text at 0x10b853080>"
      ]
     },
     "execution_count": 13,
     "metadata": {},
     "output_type": "execute_result"
    },
    {
     "data": {
      "image/png": "[encoded data removed]",
      "text/plain": [
       "<matplotlib.figure.Figure at 0x10b810ef0>"
      ]
     },
     "metadata": {},
     "output_type": "display_data"
    }
   ],
   "source": [
    "plt.plot(nValuesMerge, [x**2 for x in nValuesMerge], color=\"green\", label=\"n^2\")\n",
    "plt.plot(nValuesMerge, [x*np.log(x) for x in nValuesMerge], \"--\", color=\"orange\", label=\"nlog(n)\")\n",
    "plt.plot(nValuesMerge, [11*x*np.log(x) for x in nValuesMerge], \"--\", color=\"red\", label=\"11*nlog(n)\")\n",
    "plt.plot(nValuesMerge, [100*x*np.log(x) for x in nValuesMerge], \"--\", color=\"purple\", label=\"100*nlog(n)\")\n",
    "plt.plot(nValuesMerge, [200*x*np.log(x) for x in nValuesMerge], \"--\", color=\"blue\", label=\"200*nlog(n)\")\n",
    "plt.xlabel(\"n\")\n",
    "plt.ylim(0,800000)\n",
    "plt.legend()\n",
    "plt.title(\"n^2 vs nlog(n)\")"
   ]
  },
  {
   "cell_type": "code",
   "execution_count": null,
   "metadata": {
    "collapsed": true
   },
   "outputs": [],
   "source": []
  }
 ],
 "metadata": {
  "kernelspec": {
   "display_name": "Python 3",
   "language": "python",
   "name": "python3"
  },
  "language_info": {
   "codemirror_mode": {
    "name": "ipython",
    "version": 3
   },
   "file_extension": ".py",
   "mimetype": "text/x-python",
   "name": "python",
   "nbconvert_exporter": "python",
   "pygments_lexer": "ipython3",
   "version": "3.4.2"
  }
 },
 "nbformat": 4,
 "nbformat_minor": 1
}
