{
 "cells": [
  {
   "cell_type": "markdown",
   "metadata": {},
   "source": [
    "# Minimum Spanning Trees"
   ]
  },
  {
   "cell_type": "code",
   "execution_count": 4,
   "metadata": {},
   "outputs": [
    {
     "ename": "ModuleNotFoundError",
     "evalue": "No module named 'matplotlib'",
     "output_type": "error",
     "traceback": [
      "\u001b[0;31m---------------------------------------------------------------------------\u001b[0m",
      "\u001b[0;31mModuleNotFoundError\u001b[0m                       Traceback (most recent call last)",
      "\u001b[0;32m<ipython-input-4-8d7449bd0d25>\u001b[0m in \u001b[0;36m<module>\u001b[0;34m\u001b[0m\n\u001b[1;32m      2\u001b[0m \u001b[0;32mimport\u001b[0m \u001b[0mheapdict\u001b[0m \u001b[0;32mas\u001b[0m \u001b[0mheapdict\u001b[0m \u001b[0;31m# you will need to install heapdict to use this\u001b[0m\u001b[0;34m\u001b[0m\u001b[0;34m\u001b[0m\u001b[0m\n\u001b[1;32m      3\u001b[0m \u001b[0;32mimport\u001b[0m \u001b[0mtime\u001b[0m\u001b[0;34m\u001b[0m\u001b[0;34m\u001b[0m\u001b[0m\n\u001b[0;32m----> 4\u001b[0;31m \u001b[0;32mimport\u001b[0m \u001b[0mmatplotlib\u001b[0m\u001b[0;34m\u001b[0m\u001b[0;34m\u001b[0m\u001b[0m\n\u001b[0m\u001b[1;32m      5\u001b[0m \u001b[0;32mimport\u001b[0m \u001b[0mnumpy\u001b[0m \u001b[0;32mas\u001b[0m \u001b[0mnp\u001b[0m\u001b[0;34m\u001b[0m\u001b[0;34m\u001b[0m\u001b[0m\n\u001b[1;32m      6\u001b[0m \u001b[0;32mfrom\u001b[0m \u001b[0mrandom\u001b[0m \u001b[0;32mimport\u001b[0m \u001b[0mrandom\u001b[0m\u001b[0;34m\u001b[0m\u001b[0;34m\u001b[0m\u001b[0m\n",
      "\u001b[0;31mModuleNotFoundError\u001b[0m: No module named 'matplotlib'"
     ]
    }
   ],
   "source": [
    "from graphStuff import *\n",
    "import heapdict as heapdict # you will need to install heapdict to use this\n",
    "import time\n",
    "import matplotlib\n",
    "import numpy as np\n",
    "from random import random\n",
    "from random import choice\n",
    "import matplotlib.pyplot as plt\n",
    "%matplotlib inline"
   ]
  },
  {
   "cell_type": "markdown",
   "metadata": {},
   "source": [
    "First, let's implement the \"slowPrim\" greedy algorithm that we saw in class"
   ]
  },
  {
   "cell_type": "code",
   "execution_count": 2,
   "metadata": {
    "collapsed": true,
    "jupyter": {
     "outputs_hidden": true
    }
   },
   "outputs": [],
   "source": [
    "# G is a connected CS161Graph, s is a vertex to start at.\n",
    "def slowPrim(G,s):\n",
    "    # first, find the lightest edge leaving s\n",
    "    bestWt = np.inf\n",
    "    bestu = None\n",
    "    for u,wt in s.getOutNeighborsWithWeights():\n",
    "        if wt < bestWt:\n",
    "            bestWt = wt\n",
    "            bestu = u\n",
    "    MST = [ (s,bestu) ]\n",
    "    verticesVisited = [s,bestu]\n",
    "    while len(verticesVisited) < len(G.vertices): # danger! this will loop forever if the graph isn't connected...\n",
    "        # find the lightest edge (x,v) so that x has been visited and v hasn't.\n",
    "        bestWt = np.inf\n",
    "        bestv = None\n",
    "        bestx = None\n",
    "        for x in verticesVisited:\n",
    "            for v,wt in x.getOutNeighborsWithWeights():\n",
    "                if v in verticesVisited:\n",
    "                    continue\n",
    "                if wt < bestWt:\n",
    "                    bestWt = wt\n",
    "                    bestv = v\n",
    "                    bestx = x\n",
    "        MST.append((bestx,bestv))\n",
    "        verticesVisited.append(bestv)\n",
    "    return MST"
   ]
  },
  {
   "cell_type": "markdown",
   "metadata": {},
   "source": [
    "(Some quick sanity checks)"
   ]
  },
  {
   "cell_type": "code",
   "execution_count": 3,
   "metadata": {
    "collapsed": true,
    "jupyter": {
     "outputs_hidden": true
    }
   },
   "outputs": [],
   "source": [
    "# As a sanity check, let's make a random graph\n",
    "def makeRandomGraph(n,p):\n",
    "    G = CS161Graph()\n",
    "    for i in range(n):\n",
    "        G.addVertex(CS161Vertex(i))\n",
    "    for i in range(n):\n",
    "        for j in range(i+1,n):\n",
    "            if random() < p:\n",
    "                G.addBiEdge(G.vertices[i], G.vertices[j], wt=random())\n",
    "    return G"
   ]
  },
  {
   "cell_type": "code",
   "execution_count": 4,
   "metadata": {},
   "outputs": [
    {
     "name": "stdout",
     "output_type": "stream",
     "text": [
      "CS161Graph with:\n",
      "\t Vertices:\n",
      "\t0,1,2,3,\n",
      "\t Edges:\n",
      "\t(0,1; wt:0.8402066952153024) (0,2; wt:0.1415756919797576) (0,3; wt:0.17780500702331348) (1,0; wt:0.8402066952153024) (1,2; wt:0.7698677343077575) (1,3; wt:0.704068213028623) (2,0; wt:0.1415756919797576) (2,1; wt:0.7698677343077575) (2,3; wt:0.22455156738428528) (3,0; wt:0.17780500702331348) (3,1; wt:0.704068213028623) (3,2; wt:0.22455156738428528) \n",
      "\n"
     ]
    }
   ],
   "source": [
    "# this is a complete graph with random edge weights \n",
    "G = makeRandomGraph(4,1)\n",
    "print(G)"
   ]
  },
  {
   "cell_type": "code",
   "execution_count": 5,
   "metadata": {},
   "outputs": [
    {
     "name": "stdout",
     "output_type": "stream",
     "text": [
      "0 2\n",
      "0 3\n",
      "3 1\n"
     ]
    }
   ],
   "source": [
    "# do we get a MST?  (Seems ok)\n",
    "T = slowPrim(G,G.vertices[0])\n",
    "for x,y in T:\n",
    "    print(x,y)"
   ]
  },
  {
   "cell_type": "markdown",
   "metadata": {},
   "source": [
    "### Now let's implement prim's algorithm for real:"
   ]
  },
  {
   "cell_type": "code",
   "execution_count": 6,
   "metadata": {
    "collapsed": true,
    "jupyter": {
     "outputs_hidden": true
    }
   },
   "outputs": [],
   "source": [
    "# Not gonna lie, totally copied-and-pasted the Dijkstra code from Lecture 11 as a starting point -- they are quite similar!\n",
    "def prim(G,w):\n",
    "    for v in G.vertices:\n",
    "        v.estD = np.inf\n",
    "    w.estD = 0\n",
    "    MST = []\n",
    "    unvisitedVertices = heapdict.heapdict()\n",
    "    for v in G.vertices:\n",
    "        unvisitedVertices[v] = v.estD\n",
    "    while len(unvisitedVertices) > 0:\n",
    "        # find the u with the minimum estD, using the heap\n",
    "        u, dist = unvisitedVertices.popitem() \n",
    "        if u.estD == np.inf:\n",
    "            # then there is nothing more that I can reach; this shouldn't happen if the graph is connected\n",
    "            return \"Graph disconnected :(\"\n",
    "        # add u to the MST\n",
    "        if u.parent != None:  # don't do it for the first vertex\n",
    "            MST.append((u.parent,u))\n",
    "        # update u's neighbors\n",
    "        for v,wt in u.getOutNeighborsWithWeights():\n",
    "            if v in unvisitedVertices:\n",
    "                if wt < v.estD:\n",
    "                    v.estD = wt\n",
    "                    unvisitedVertices[v] =  wt #update the key in the heapdict\n",
    "                    v.parent = u # v points to u now\n",
    "    return MST"
   ]
  },
  {
   "cell_type": "code",
   "execution_count": 7,
   "metadata": {},
   "outputs": [
    {
     "name": "stdout",
     "output_type": "stream",
     "text": [
      "0 1 \t vs \t 0 1\n",
      "1 11 \t vs \t 1 11\n",
      "11 10 \t vs \t 11 10\n",
      "10 4 \t vs \t 10 4\n",
      "4 6 \t vs \t 4 6\n",
      "6 13 \t vs \t 6 13\n",
      "10 8 \t vs \t 10 8\n",
      "8 12 \t vs \t 8 12\n",
      "12 7 \t vs \t 12 7\n",
      "8 9 \t vs \t 8 9\n",
      "6 2 \t vs \t 6 2\n",
      "2 5 \t vs \t 2 5\n",
      "5 3 \t vs \t 5 3\n",
      "It worked!\n"
     ]
    }
   ],
   "source": [
    "# make sure it does the same thing as slowPrim\n",
    "G = makeRandomGraph(14,1)\n",
    "Tprim = prim(G,G.vertices[0])\n",
    "Tslow = slowPrim(G,G.vertices[0])\n",
    "\n",
    "for i in range(len(Tprim)):\n",
    "    x,y = Tprim[i]\n",
    "    a,b = Tslow[i]\n",
    "    print(x,y ,\"\\t vs \\t\", a, b)\n",
    "\n",
    "\n",
    "def areEqual(A,B):\n",
    "    if len(A) != len(B):\n",
    "        return False\n",
    "    for a in A:\n",
    "        if a not in B:\n",
    "            return False\n",
    "    return True\n",
    "\n",
    "if areEqual(Tprim,Tslow):\n",
    "    print(\"It worked!\")"
   ]
  },
  {
   "cell_type": "code",
   "execution_count": 8,
   "metadata": {
    "collapsed": true,
    "jupyter": {
     "outputs_hidden": true
    }
   },
   "outputs": [],
   "source": [
    "# generate a bunch of random graphs and run an alg to compute shortest paths (implicitly)  \n",
    "def runTrials(myFn, nVals, pFn, numTrials=25):\n",
    "    nValues = []\n",
    "    tValues = []\n",
    "    for n in nVals:\n",
    "        # run myFn several times and average to get a decent idea.\n",
    "        runtime = 0\n",
    "        for t in range(numTrials):\n",
    "            G = makeRandomGraph(n, pFn(n))  #Random graph on n vertices with about pn^2 edges\n",
    "            start = time.time()\n",
    "            myFn( G, G.vertices[0]) \n",
    "            end = time.time()\n",
    "            runtime += (end - start) * 1000 # measure in milliseconds\n",
    "        runtime = runtime/numTrials\n",
    "        nValues.append(n)\n",
    "        tValues.append(runtime)\n",
    "    return nValues, tValues"
   ]
  },
  {
   "cell_type": "code",
   "execution_count": 9,
   "metadata": {},
   "outputs": [],
   "source": [
    "def smallFrac(n):\n",
    "    return float(10/n)\n",
    "nValues = [10,50,100,150,200]\n",
    "nSlowPrim, tSlowPrim = runTrials(slowPrim, nValues,smallFrac)\n",
    "nPrim, tPrim = runTrials(prim, nValues,smallFrac)"
   ]
  },
  {
   "cell_type": "code",
   "execution_count": 10,
   "metadata": {},
   "outputs": [
    {
     "data": {
      "image/png": "[encoded data removed]",
      "text/plain": [
       "<matplotlib.figure.Figure at 0x10a7de9b0>"
      ]
     },
     "metadata": {},
     "output_type": "display_data"
    }
   ],
   "source": [
    "plt.plot(nSlowPrim, tSlowPrim, color=\"red\", label=\"slowPrim\")\n",
    "plt.plot(nPrim, tPrim, \"-.\", color=\"blue\", label=\"prim with a heap\")\n",
    "plt.xlabel(\"n\")\n",
    "plt.ylabel(\"Time(ms)\")\n",
    "plt.legend()\n",
    "plt.title(\"Shortest paths on a graph with n vertices and about 10n edges\")\n",
    "plt.show()"
   ]
  },
  {
   "cell_type": "code",
   "execution_count": null,
   "metadata": {
    "collapsed": true,
    "jupyter": {
     "outputs_hidden": true
    }
   },
   "outputs": [],
   "source": []
  }
 ],
 "metadata": {
  "kernelspec": {
   "display_name": "Python 3",
   "language": "python",
   "name": "python3"
  },
  "language_info": {
   "codemirror_mode": {
    "name": "ipython",
    "version": 3
   },
   "file_extension": ".py",
   "mimetype": "text/x-python",
   "name": "python",
   "nbconvert_exporter": "python",
   "pygments_lexer": "ipython3",
   "version": "3.7.6"
  }
 },
 "nbformat": 4,
 "nbformat_minor": 4
}
