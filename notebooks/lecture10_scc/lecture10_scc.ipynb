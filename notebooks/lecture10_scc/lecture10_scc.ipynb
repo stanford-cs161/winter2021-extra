{
 "cells": [
  {
   "cell_type": "markdown",
   "metadata": {},
   "source": [
    "# Lecture 10: SCC's"
   ]
  },
  {
   "cell_type": "code",
   "execution_count": 1,
   "metadata": {},
   "outputs": [],
   "source": [
    "from graphStuff import *"
   ]
  },
  {
   "cell_type": "markdown",
   "metadata": {},
   "source": [
    "### Test graph:\n",
    "\n",
    "Here's the graph that is the running example on the slides"
   ]
  },
  {
   "cell_type": "code",
   "execution_count": 2,
   "metadata": {},
   "outputs": [
    {
     "name": "stdout",
     "output_type": "stream",
     "text": [
      "CS161Graph with:\n",
      "\t Vertices:\n",
      "\tStanford,Wikipedia,NYTimes,Berkeley,Puppies,Google,\n",
      "\t Edges:\n",
      "\t(Stanford,Wikipedia) (Stanford,Puppies) (Wikipedia,Stanford) (Wikipedia,NYTimes) (Wikipedia,Puppies) (NYTimes,Stanford) (NYTimes,Puppies) (Berkeley,Stanford) (Berkeley,Puppies) (Puppies,Google) (Google,Puppies) \n",
      "\n"
     ]
    }
   ],
   "source": [
    "stanford = CS161Vertex(\"Stanford\")\n",
    "wiki = CS161Vertex(\"Wikipedia\")\n",
    "nytimes = CS161Vertex(\"NYTimes\")\n",
    "cal = CS161Vertex(\"Berkeley\")\n",
    "puppies = CS161Vertex(\"Puppies\")\n",
    "google = CS161Vertex(\"Google\")\n",
    "\n",
    "G = CS161Graph()\n",
    "V = [ stanford, wiki, nytimes, cal, puppies, google ]\n",
    "for v in V:\n",
    "    G.addVertex(v)\n",
    "E = [ (stanford, wiki), (stanford, puppies), (wiki, stanford), (wiki, nytimes), (nytimes, stanford), (cal, stanford), (cal, puppies), (wiki,puppies), (nytimes, puppies), (puppies, google), (google, puppies) ]\n",
    "for x,y in E:\n",
    "    G.addDiEdge( x,y )\n",
    "\n",
    "print(G)"
   ]
  },
  {
   "cell_type": "markdown",
   "metadata": {},
   "source": [
    "## Now let's implement our SCC algorithm. \n",
    "\n",
    "We'll need to modify the DFS code we had from last time"
   ]
  },
  {
   "cell_type": "code",
   "execution_count": 3,
   "metadata": {},
   "outputs": [],
   "source": [
    "def DFS_helper( w, currentTime, ordering, verbose ):\n",
    "    if verbose:\n",
    "        print(\"Time\", currentTime, \":\\t entering\", w)\n",
    "    w.inTime = currentTime\n",
    "    currentTime += 1\n",
    "    w.status = \"inprogress\"\n",
    "    for v in w.getOutNeighbors():\n",
    "        if v.status == \"unvisited\":\n",
    "            currentTime = DFS_helper(v, currentTime, ordering, verbose)\n",
    "            currentTime += 1\n",
    "    w.outTime = currentTime\n",
    "    w.status = \"done\"\n",
    "    ordering.insert(0, w)\n",
    "    if verbose:\n",
    "        print(\"Time\", currentTime, \":\\t leaving\", w)\n",
    "    return currentTime\n",
    "       \n",
    "# This is a version of DFS which outputs vertices in the order that DFS leaves them.\n",
    "# We used it for topological sorting in Lecture 9\n",
    "def SCC( G, verbose=False ):\n",
    "    ordering = []\n",
    "    for v in G.vertices:\n",
    "        v.status = \"unvisited\"\n",
    "        v.inTime = None\n",
    "        v.outTime = None\n",
    "    currentTime = 0\n",
    "    for w in G.vertices:\n",
    "        if w.status == \"unvisited\":\n",
    "            currentTime = DFS_helper( w, currentTime, ordering, verbose )\n",
    "        currentTime += 1\n",
    "    # now reverse all the edges\n",
    "    E = G.getDirEdges()\n",
    "    for x,y in E:\n",
    "        G.reverseEdge(x,y)\n",
    "   \n",
    "    # and do it again, but this time in the order \"ordering\"\n",
    "    SCCs = []\n",
    "    for v in ordering:\n",
    "        v.status = \"unvisited\"\n",
    "        v.inTime = None\n",
    "        v.outTime = None\n",
    "    currentTime = 0 \n",
    "    for w in ordering:\n",
    "        visited = [] \n",
    "        if w.status == \"unvisited\":\n",
    "            currentTime = DFS_helper( w, currentTime, visited, verbose )\n",
    "            SCCs.append(visited[:])\n",
    "        currentTime += 1\n",
    "    return SCCs\n",
    "        "
   ]
  },
  {
   "cell_type": "markdown",
   "metadata": {},
   "source": [
    "### The moment of truth...\n",
    "\n",
    "Does this algorithm work?"
   ]
  },
  {
   "cell_type": "code",
   "execution_count": 4,
   "metadata": {},
   "outputs": [
    {
     "name": "stdout",
     "output_type": "stream",
     "text": [
      "CS161Graph with:\n",
      "\t Vertices:\n",
      "\tStanford,Wikipedia,NYTimes,Berkeley,Puppies,Google,\n",
      "\t Edges:\n",
      "\t(Stanford,Wikipedia) (Stanford,Puppies) (Wikipedia,Stanford) (Wikipedia,NYTimes) (Wikipedia,Puppies) (NYTimes,Stanford) (NYTimes,Puppies) (Berkeley,Stanford) (Berkeley,Puppies) (Puppies,Google) (Google,Puppies) \n",
      "\n"
     ]
    }
   ],
   "source": [
    "print(G)"
   ]
  },
  {
   "cell_type": "code",
   "execution_count": 5,
   "metadata": {},
   "outputs": [
    {
     "name": "stdout",
     "output_type": "stream",
     "text": [
      "['Berkeley']\n",
      "['Stanford', 'NYTimes', 'Wikipedia']\n",
      "['Puppies', 'Google']\n"
     ]
    }
   ],
   "source": [
    "SCCs = SCC(G, False)\n",
    "for X in SCCs:\n",
    "    print ([str(x) for x in X])"
   ]
  },
  {
   "cell_type": "markdown",
   "metadata": {},
   "source": [
    "## It does!  But why?"
   ]
  },
  {
   "cell_type": "code",
   "execution_count": null,
   "metadata": {},
   "outputs": [],
   "source": []
  }
 ],
 "metadata": {
  "kernelspec": {
   "display_name": "Python 3",
   "language": "python",
   "name": "python3"
  },
  "language_info": {
   "codemirror_mode": {
    "name": "ipython",
    "version": 3
   },
   "file_extension": ".py",
   "mimetype": "text/x-python",
   "name": "python",
   "nbconvert_exporter": "python",
   "pygments_lexer": "ipython3",
   "version": "3.7.6"
  }
 },
 "nbformat": 4,
 "nbformat_minor": 2
}
