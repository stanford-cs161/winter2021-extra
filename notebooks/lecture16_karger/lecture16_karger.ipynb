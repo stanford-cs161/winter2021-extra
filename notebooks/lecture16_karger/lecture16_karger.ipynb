{
 "cells": [
  {
   "cell_type": "markdown",
   "metadata": {},
   "source": [
    "# Lecture 16: Karger's algorithm"
   ]
  },
  {
   "cell_type": "code",
   "execution_count": 1,
   "metadata": {},
   "outputs": [],
   "source": [
    "from graphStuff import *\n",
    "from random import choice\n",
    "from random import random\n",
    "import matplotlib\n",
    "import matplotlib.pyplot as plt\n",
    "import numpy as np\n",
    "%matplotlib inline"
   ]
  },
  {
   "cell_type": "markdown",
   "metadata": {},
   "source": [
    "### Here's Karger's algorithm\n",
    "\n",
    "It's not a very savvy implementation, but it's good enough for us"
   ]
  },
  {
   "cell_type": "code",
   "execution_count": 2,
   "metadata": {},
   "outputs": [],
   "source": [
    "def karger(G):\n",
    "    superG = CS161Graph()\n",
    "    for v in G.vertices:\n",
    "        N = CS161Vertex([v])\n",
    "        v.superNode = N\n",
    "        superG.addVertex( N )\n",
    "    # superG starts out as the complete graph; this isn't a smart implementation choice for sparse graphs\n",
    "    for i in range(len(G.vertices)):\n",
    "        for j in range(i+1, len(G.vertices)):\n",
    "            u = G.vertices[i]\n",
    "            v = G.vertices[j]\n",
    "            E = u.getEdge(v)\n",
    "            if E == None:\n",
    "                val = []\n",
    "            else:\n",
    "                val = [E]\n",
    "            U = u.superNode\n",
    "            V = v.superNode\n",
    "            superG.addEdge(U,V,val=val)\n",
    "\n",
    "    currentEdges = G.getEdges()\n",
    "    while len(superG.vertices) > 2:\n",
    "        E = choice(currentEdges)\n",
    "        u,v = E.endpts\n",
    "\n",
    "        U = u.superNode\n",
    "        V = v.superNode\n",
    "        UV = U.getEdge(V)\n",
    "        for e in UV.value:\n",
    "            if e in currentEdges:\n",
    "                currentEdges.remove(e)\n",
    "        merge(E,superG)\n",
    "    return superG.vertices[0].value, superG.vertices[1].value, superG.vertices[0].getEdge(superG.vertices[1]).value\n",
    "\n",
    "# merge the endpoints of E (which is an edge in G) in the super-graph superG\n",
    "def merge(E,superG):\n",
    "    u,v = E.endpts\n",
    "    U = u.superNode\n",
    "    V = v.superNode\n",
    "    X = CS161Vertex(U.value + V.value)  # merge the super-vertices\n",
    "    for x in V.value:\n",
    "        x.superNode = X\n",
    "    for y in U.value:\n",
    "        y.superNode = X\n",
    "    for W in superG.vertices:\n",
    "        if W == U or W == V:\n",
    "            continue\n",
    "        WU = U.getEdge(W)\n",
    "        WV = V.getEdge(W)\n",
    "        XWval = WU.value + WV.value # concatenate the two super-edges\n",
    "        superG.addEdge(X,W,XWval)\n",
    "    superG.removeVertex(U)\n",
    "    superG.removeVertex(V)\n",
    "    superG.addVertex(X)"
   ]
  },
  {
   "cell_type": "markdown",
   "metadata": {},
   "source": [
    "### Does it work?  Let's try it with the graph from the slides."
   ]
  },
  {
   "cell_type": "code",
   "execution_count": 3,
   "metadata": {},
   "outputs": [],
   "source": [
    "# Here's the graph from the slides:\n",
    "n = 8\n",
    "G = CS161Graph()\n",
    "for i in range(n):\n",
    "    v = CS161Vertex(i)\n",
    "    G.addVertex(v)\n",
    "for i,j in [(1,3), (1,2), (1,4), (2,3), (2,4), (3,4), (2,5),(4,5), (5,6), (5,7),(5,0), (6,7),(6,0), (7,0)]:\n",
    "    G.addEdge(G.vertices[i], G.vertices[j])\n"
   ]
  },
  {
   "cell_type": "code",
   "execution_count": 4,
   "metadata": {},
   "outputs": [
    {
     "name": "stdout",
     "output_type": "stream",
     "text": [
      "['1']\n",
      "['3', '2', '4', '5', '6', '0', '7']\n",
      "['1,3:None', '1,2:None', '1,4:None']\n"
     ]
    }
   ],
   "source": [
    "# Just to see what it does:\n",
    "A,B,E = karger(G)\n",
    "print([ str(x) for x in A ])\n",
    "print([str(x) for x in B])\n",
    "print([str(e) for e in E])"
   ]
  },
  {
   "cell_type": "code",
   "execution_count": 5,
   "metadata": {},
   "outputs": [],
   "source": [
    "# Now let's try it a bunch of times\n",
    "T = 10000\n",
    "data = [0 for i in range(len(G.getEdges()))]\n",
    "for t in range(T):\n",
    "    A,B,E = karger(G)\n",
    "    cutSize = len(E)\n",
    "    data[cutSize] += 1\n",
    "for i in range(len(data)):\n",
    "    data[i] = data[i]/T"
   ]
  },
  {
   "cell_type": "code",
   "execution_count": 6,
   "metadata": {},
   "outputs": [
    {
     "data": {
      "image/png": "[encoded data removed]",
      "text/plain": [
       "<matplotlib.figure.Figure at 0x108371898>"
      ]
     },
     "metadata": {},
     "output_type": "display_data"
    }
   ],
   "source": [
    "plt.bar(range(8),data[:8])\n",
    "plt.title(\"How often does Karger get minimum cuts? (out of 10K trials)\")\n",
    "plt.xlabel('Size of cut')\n",
    "plt.ylabel('Frequency of cuts of that size')\n",
    "plt.show()"
   ]
  },
  {
   "cell_type": "markdown",
   "metadata": {},
   "source": [
    "### Yikes! \n",
    "\n",
    "Looks like it's only correct about 20% of the time. \n",
    "\n",
    "But is that good or bad?  For example, what if we just choose completely random cuts?"
   ]
  },
  {
   "cell_type": "code",
   "execution_count": 7,
   "metadata": {},
   "outputs": [],
   "source": [
    "# This function chooses a random cut and returns the size of that cut\n",
    "def sizeofRandomCut(G):\n",
    "    A = []\n",
    "    for v in G.vertices:\n",
    "        if random() < 0.5:\n",
    "            A.append(v)\n",
    "    if len(A) == 0 or len(A) == len(G.vertices):\n",
    "        return None\n",
    "    edges = []\n",
    "    for v in A:\n",
    "        for E in v.neighbors:\n",
    "            if E.endpts[0] not in A or E.endpts[1] not in A:\n",
    "                if E not in edges:\n",
    "                    edges.append(E)\n",
    "    return len(edges)"
   ]
  },
  {
   "cell_type": "code",
   "execution_count": 8,
   "metadata": {},
   "outputs": [],
   "source": [
    "# Now let's try it a bunch of times\n",
    "T = 10000\n",
    "dataRandom = [0 for i in range(len(G.getEdges()))]\n",
    "for t in range(T):\n",
    "    cutSize = None\n",
    "    while cutSize == None:\n",
    "        cutSize = sizeofRandomCut(G)\n",
    "    dataRandom[cutSize] += 1\n",
    "for i in range(len(data)):\n",
    "    dataRandom[i] = dataRandom[i]/T"
   ]
  },
  {
   "cell_type": "code",
   "execution_count": 9,
   "metadata": {},
   "outputs": [
    {
     "data": {
      "image/png": "[encoded data removed]",
      "text/plain": [
       "<matplotlib.figure.Figure at 0x10dca3be0>"
      ]
     },
     "metadata": {},
     "output_type": "display_data"
    }
   ],
   "source": [
    "plt.bar([ x - 0.2 for x in range(11)],dataRandom[:11],color=\"orange\",width=0.4,label=\"completely random\")\n",
    "plt.bar([ x + 0.2 for x in range(11)],data[:11],width=0.4, label=\"karger\")\n",
    "plt.title(\"Frequency of different cut sizes (out of 10K trials)\")\n",
    "plt.xlabel('Size of cut')\n",
    "plt.ylabel('Frequency of cuts of that size')\n",
    "plt.legend()\n",
    "plt.show()"
   ]
  },
  {
   "cell_type": "markdown",
   "metadata": {},
   "source": [
    "### Okay, so now our final algorithm will be to run Kruskal a bunch -- how well does this work?"
   ]
  },
  {
   "cell_type": "code",
   "execution_count": 11,
   "metadata": {
    "collapsed": true
   },
   "outputs": [],
   "source": [
    "def findAMinCut(G,T):\n",
    "    bestCut = None\n",
    "    bestSize = np.inf\n",
    "    for t in range(T):\n",
    "        A,B,E = karger(G)\n",
    "        cutSize = len(E)\n",
    "        if cutSize < bestSize:\n",
    "            bestSize = cutSize\n",
    "            bestCut = A,B,E\n",
    "    return bestCut"
   ]
  },
  {
   "cell_type": "code",
   "execution_count": 12,
   "metadata": {},
   "outputs": [],
   "source": [
    "Tmax = 30\n",
    "nTrials = 100\n",
    "repeatData = [0 for i in range(Tmax)]\n",
    "for T in range(1, Tmax):\n",
    "    for t in range(nTrials):\n",
    "        A,B,E = findAMinCut(G,T)\n",
    "        if len(E) == 2:\n",
    "            repeatData[T] += 1\n",
    "    repeatData[T] /= nTrials    "
   ]
  },
  {
   "cell_type": "code",
   "execution_count": 13,
   "metadata": {},
   "outputs": [
    {
     "data": {
      "image/png": "[encoded data removed]",
      "text/plain": [
       "<matplotlib.figure.Figure at 0x10e6fca58>"
      ]
     },
     "metadata": {},
     "output_type": "display_data"
    }
   ],
   "source": [
    "plt.plot( repeatData )\n",
    "plt.title( \"Success probability for repeating Karger's algorithm a bunch\" )\n",
    "plt.xlabel( \"Number of repetitions\" )\n",
    "plt.ylabel( \"Empirical success probability\")\n",
    "plt.show()"
   ]
  },
  {
   "cell_type": "markdown",
   "metadata": {},
   "source": [
    "Looks like it gets real good real fast!  Hooray!"
   ]
  },
  {
   "cell_type": "code",
   "execution_count": null,
   "metadata": {
    "collapsed": true
   },
   "outputs": [],
   "source": []
  }
 ],
 "metadata": {
  "kernelspec": {
   "display_name": "Python 3",
   "language": "python",
   "name": "python3"
  },
  "language_info": {
   "codemirror_mode": {
    "name": "ipython",
    "version": 3
   },
   "file_extension": ".py",
   "mimetype": "text/x-python",
   "name": "python",
   "nbconvert_exporter": "python",
   "pygments_lexer": "ipython3",
   "version": "3.6.1"
  }
 },
 "nbformat": 4,
 "nbformat_minor": 2
}
